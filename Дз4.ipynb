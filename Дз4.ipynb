{
 "cells": [
  {
   "cell_type": "markdown",
   "id": "311ff7df",
   "metadata": {},
   "source": [
    "# Задание 1."
   ]
  },
  {
   "cell_type": "code",
   "execution_count": 1,
   "id": "d5926027",
   "metadata": {},
   "outputs": [
    {
     "name": "stdout",
     "output_type": "stream",
     "text": [
      "На промежутке (200;800]\n",
      "Среднее значение: М(А) =  500.00\n",
      "Дисперсия: D(A) =  30000.00\n"
     ]
    }
   ],
   "source": [
    "def mean_and_variance(a,b):\n",
    "    return f'На промежутке ({a};{b}]\\nСреднее значение: М(А) = {(a+b)/2: .2f}\\nДисперсия: D(A) = {((b-a)**2)/12: .2f}'\n",
    "print(mean_and_variance(200,800))"
   ]
  },
  {
   "cell_type": "markdown",
   "id": "52f0280d",
   "metadata": {},
   "source": [
    "# Задание 2."
   ]
  },
  {
   "cell_type": "markdown",
   "id": "3a874eb4",
   "metadata": {},
   "source": [
    "D(B)=((b-a)^2)/12\n",
    "тогда, если D(B)=0.2, а a=0.5, то:\n",
    "b=0.5+-(2.4)^1/2\n",
    "Т.к. b - правая граница, то она не может быть меньше a --->\n",
    "b=0.5+(2.4)^1/2\n",
    "M(B)=(a+b)/2"
   ]
  },
  {
   "cell_type": "code",
   "execution_count": 3,
   "id": "22f84f3c",
   "metadata": {},
   "outputs": [
    {
     "name": "stdout",
     "output_type": "stream",
     "text": [
      "Правая граница распределения величины В -  2.049\n",
      "Среднее значение В на промежутке (0.5;  2.049) M(B) =  1.275\n"
     ]
    }
   ],
   "source": [
    "b=0.5+2.4**(1/2)\n",
    "print(f'Правая граница распределения величины В - {b: .3f}\\n'\n",
    "      f'Среднее значение В на промежутке (0.5; {b: .3f}) M(B) = {(b+0.5)/2: .3f}'     \n",
    "     )"
   ]
  },
  {
   "cell_type": "markdown",
   "id": "a93f78d5",
   "metadata": {},
   "source": [
    "# Задание 3."
   ]
  },
  {
   "cell_type": "code",
   "execution_count": 6,
   "id": "5ad73a2f",
   "metadata": {
    "scrolled": true
   },
   "outputs": [],
   "source": [
    "#Сопоставим формулу, представленную в методичке, и формулу в задании. Можно легко заметить, что σ=4, а скобка (x+2) показывает, что a=-2 ---> M(X)=a=-2, D(X)=σ^2=16"
   ]
  },
  {
   "cell_type": "markdown",
   "id": "4c5aad21",
   "metadata": {},
   "source": [
    "#### M(X)=-2\n",
    "#### D(X)=16"
   ]
  },
  {
   "cell_type": "markdown",
   "id": "f985e210",
   "metadata": {},
   "source": [
    "# Задание 4."
   ]
  },
  {
   "cell_type": "markdown",
   "id": "4f290d9e",
   "metadata": {},
   "source": [
    "#### Функция для определения Z для нашего распределения"
   ]
  },
  {
   "cell_type": "code",
   "execution_count": 13,
   "id": "26cb3cdf",
   "metadata": {},
   "outputs": [],
   "source": [
    "def z_value(height):\n",
    "    return (height-174)/8"
   ]
  },
  {
   "cell_type": "code",
   "execution_count": 9,
   "id": "f26658d2",
   "metadata": {},
   "outputs": [],
   "source": [
    "from statistics import NormalDist"
   ]
  },
  {
   "cell_type": "markdown",
   "id": "bc1a9f00",
   "metadata": {},
   "source": [
    "а) определяем Z значение"
   ]
  },
  {
   "cell_type": "code",
   "execution_count": 11,
   "id": "d2fae46b",
   "metadata": {},
   "outputs": [
    {
     "name": "stdout",
     "output_type": "stream",
     "text": [
      "1.0\n"
     ]
    }
   ],
   "source": [
    "print(z_value(182))"
   ]
  },
  {
   "cell_type": "code",
   "execution_count": 16,
   "id": "67de095e",
   "metadata": {},
   "outputs": [
    {
     "data": {
      "text/plain": [
       "0.15865525393145719"
      ]
     },
     "execution_count": 16,
     "metadata": {},
     "output_type": "execute_result"
    }
   ],
   "source": [
    "P=1-NormalDist().cdf(z_value(182))\n",
    "P"
   ]
  },
  {
   "cell_type": "markdown",
   "id": "fe217caa",
   "metadata": {},
   "source": [
    "P(X>=182)=0.1587"
   ]
  },
  {
   "cell_type": "markdown",
   "id": "4681b8e2",
   "metadata": {},
   "source": [
    "б) X>190"
   ]
  },
  {
   "cell_type": "code",
   "execution_count": 17,
   "id": "65c6f595",
   "metadata": {},
   "outputs": [
    {
     "data": {
      "text/plain": [
       "2.0"
      ]
     },
     "execution_count": 17,
     "metadata": {},
     "output_type": "execute_result"
    }
   ],
   "source": [
    "z=z_value(190)\n",
    "z"
   ]
  },
  {
   "cell_type": "code",
   "execution_count": 18,
   "id": "4b4363d6",
   "metadata": {},
   "outputs": [
    {
     "data": {
      "text/plain": [
       "0.022750131948179098"
      ]
     },
     "execution_count": 18,
     "metadata": {},
     "output_type": "execute_result"
    }
   ],
   "source": [
    "P=1-NormalDist().cdf(z)\n",
    "P"
   ]
  },
  {
   "cell_type": "markdown",
   "id": "d10aafdd",
   "metadata": {},
   "source": [
    "P(X>190)=0.0228"
   ]
  },
  {
   "cell_type": "markdown",
   "id": "1f62b3e1",
   "metadata": {},
   "source": [
    "в) 166<X<190"
   ]
  },
  {
   "cell_type": "code",
   "execution_count": 21,
   "id": "b4beb932",
   "metadata": {
    "scrolled": true
   },
   "outputs": [
    {
     "name": "stdout",
     "output_type": "stream",
     "text": [
      "-1.0\n",
      "2.0\n"
     ]
    }
   ],
   "source": [
    "z1=z_value(166)\n",
    "z2=z_value(190)\n",
    "print(z1)\n",
    "print(z2)"
   ]
  },
  {
   "cell_type": "code",
   "execution_count": 22,
   "id": "da103fef",
   "metadata": {},
   "outputs": [
    {
     "data": {
      "text/plain": [
       "0.8185946141203637"
      ]
     },
     "execution_count": 22,
     "metadata": {},
     "output_type": "execute_result"
    }
   ],
   "source": [
    "P=NormalDist().cdf(z2)-NormalDist().cdf(z1)\n",
    "P"
   ]
  },
  {
   "cell_type": "markdown",
   "id": "45c97aca",
   "metadata": {},
   "source": [
    "P(166<X<190)=0.8186"
   ]
  },
  {
   "cell_type": "markdown",
   "id": "bfef6b20",
   "metadata": {},
   "source": [
    "г) 166<X<182"
   ]
  },
  {
   "cell_type": "code",
   "execution_count": 23,
   "id": "01570f7e",
   "metadata": {},
   "outputs": [
    {
     "name": "stdout",
     "output_type": "stream",
     "text": [
      "-1.0\n",
      "1.0\n"
     ]
    }
   ],
   "source": [
    "z1=z_value(166)\n",
    "z2=z_value(182)\n",
    "print(z1)\n",
    "print(z2)"
   ]
  },
  {
   "cell_type": "code",
   "execution_count": 24,
   "id": "89b130a2",
   "metadata": {},
   "outputs": [
    {
     "data": {
      "text/plain": [
       "0.6826894921370856"
      ]
     },
     "execution_count": 24,
     "metadata": {},
     "output_type": "execute_result"
    }
   ],
   "source": [
    "P=NormalDist().cdf(z2)-NormalDist().cdf(z1)\n",
    "P"
   ]
  },
  {
   "cell_type": "markdown",
   "id": "68dd432e",
   "metadata": {},
   "source": [
    "P(166<X<182)=0.6827"
   ]
  },
  {
   "cell_type": "markdown",
   "id": "178df6dd",
   "metadata": {},
   "source": [
    "д) 158<X<190"
   ]
  },
  {
   "cell_type": "code",
   "execution_count": 25,
   "id": "9479548f",
   "metadata": {},
   "outputs": [
    {
     "name": "stdout",
     "output_type": "stream",
     "text": [
      "-2.0\n",
      "2.0\n"
     ]
    }
   ],
   "source": [
    "z1=z_value(158)\n",
    "z2=z_value(190)\n",
    "print(z1)\n",
    "print(z2)"
   ]
  },
  {
   "cell_type": "code",
   "execution_count": 26,
   "id": "5fffa4f6",
   "metadata": {},
   "outputs": [
    {
     "data": {
      "text/plain": [
       "0.9544997361036418"
      ]
     },
     "execution_count": 26,
     "metadata": {},
     "output_type": "execute_result"
    }
   ],
   "source": [
    "P=NormalDist().cdf(z2)-NormalDist().cdf(z1)\n",
    "P"
   ]
  },
  {
   "cell_type": "markdown",
   "id": "a2f99408",
   "metadata": {},
   "source": [
    "P(158<X<190)=0.9545"
   ]
  },
  {
   "cell_type": "markdown",
   "id": "066c8032",
   "metadata": {},
   "source": [
    "е) X<150 или X>190"
   ]
  },
  {
   "cell_type": "code",
   "execution_count": 27,
   "id": "7d427147",
   "metadata": {},
   "outputs": [
    {
     "name": "stdout",
     "output_type": "stream",
     "text": [
      "-3.0\n",
      "2.0\n"
     ]
    }
   ],
   "source": [
    "z1=z_value(150)\n",
    "z2=z_value(190)\n",
    "print(z1)\n",
    "print(z2)"
   ]
  },
  {
   "cell_type": "code",
   "execution_count": 28,
   "id": "c519eacb",
   "metadata": {},
   "outputs": [
    {
     "data": {
      "text/plain": [
       "0.0241000299798092"
      ]
     },
     "execution_count": 28,
     "metadata": {},
     "output_type": "execute_result"
    }
   ],
   "source": [
    "P=NormalDist().cdf(z1)+(1-NormalDist().cdf(z2))\n",
    "P"
   ]
  },
  {
   "cell_type": "markdown",
   "id": "5b095063",
   "metadata": {},
   "source": [
    "P(X<150 или X>190)=0.0241"
   ]
  },
  {
   "cell_type": "markdown",
   "id": "a656707d",
   "metadata": {},
   "source": [
    "ё) X<150 или X>198"
   ]
  },
  {
   "cell_type": "code",
   "execution_count": 29,
   "id": "541269ac",
   "metadata": {},
   "outputs": [
    {
     "name": "stdout",
     "output_type": "stream",
     "text": [
      "-3.0\n",
      "3.0\n"
     ]
    }
   ],
   "source": [
    "z1=z_value(150)\n",
    "z2=z_value(198)\n",
    "print(z1)\n",
    "print(z2)"
   ]
  },
  {
   "cell_type": "code",
   "execution_count": 30,
   "id": "b73b3838",
   "metadata": {},
   "outputs": [
    {
     "data": {
      "text/plain": [
       "0.002699796063260207"
      ]
     },
     "execution_count": 30,
     "metadata": {},
     "output_type": "execute_result"
    }
   ],
   "source": [
    "P=NormalDist().cdf(z1)+(1-NormalDist().cdf(z2))\n",
    "P"
   ]
  },
  {
   "cell_type": "markdown",
   "id": "e11f6d9b",
   "metadata": {},
   "source": [
    "P(X<150 или X>198)=0.0027"
   ]
  },
  {
   "cell_type": "markdown",
   "id": "6315d25f",
   "metadata": {},
   "source": [
    "ж) X<166"
   ]
  },
  {
   "cell_type": "code",
   "execution_count": 32,
   "id": "bf110758",
   "metadata": {},
   "outputs": [
    {
     "name": "stdout",
     "output_type": "stream",
     "text": [
      "-1.0\n"
     ]
    }
   ],
   "source": [
    "z1=z_value(166)\n",
    "print(z1)"
   ]
  },
  {
   "cell_type": "code",
   "execution_count": 34,
   "id": "b8d60484",
   "metadata": {},
   "outputs": [
    {
     "data": {
      "text/plain": [
       "0.15865525393145713"
      ]
     },
     "execution_count": 34,
     "metadata": {},
     "output_type": "execute_result"
    }
   ],
   "source": [
    "P=NormalDist().cdf(z1)\n",
    "P"
   ]
  },
  {
   "cell_type": "markdown",
   "id": "c0203945",
   "metadata": {},
   "source": [
    "P(X<166)=0.1587"
   ]
  },
  {
   "cell_type": "markdown",
   "id": "bf3ced37",
   "metadata": {},
   "source": [
    "а) 0.1587\n",
    "б) 0.0228\n",
    "в) 0.8186\n",
    "г) 0.6827\n",
    "д) 0.9545\n",
    "е) 0.0241\n",
    "ё) 0.0027\n",
    "ж) 0.1587"
   ]
  },
  {
   "cell_type": "markdown",
   "id": "c5956217",
   "metadata": {},
   "source": [
    "# Задание 5."
   ]
  },
  {
   "cell_type": "code",
   "execution_count": 35,
   "id": "61df3b6f",
   "metadata": {},
   "outputs": [
    {
     "data": {
      "text/plain": [
       "2.4"
      ]
     },
     "execution_count": 35,
     "metadata": {},
     "output_type": "execute_result"
    }
   ],
   "source": [
    "Z=(190-178)/25**(1/2)\n",
    "Z"
   ]
  },
  {
   "cell_type": "code",
   "execution_count": 36,
   "id": "48f9aaa8",
   "metadata": {},
   "outputs": [
    {
     "name": "stdout",
     "output_type": "stream",
     "text": [
      "Рост человека, равный 190 см, отклоняется от математического ожидания роста в популяции, \n",
      "в которой M(X) = 178 см и D(X) = 25 кв.см на Z = 2.4 сигм.\n"
     ]
    }
   ],
   "source": [
    "print(f'Рост человека, равный 190 см, отклоняется от математического ожидания роста в популяции, \\n'\n",
    "      f'в которой M(X) = 178 см и D(X) = 25 кв.см на Z = {Z} сигм.')"
   ]
  },
  {
   "cell_type": "markdown",
   "id": "203c3201",
   "metadata": {},
   "source": [
    "Z=2.4"
   ]
  },
  {
   "cell_type": "code",
   "execution_count": null,
   "id": "3f5d0dc0",
   "metadata": {},
   "outputs": [],
   "source": []
  }
 ],
 "metadata": {
  "kernelspec": {
   "display_name": "Python 3 (ipykernel)",
   "language": "python",
   "name": "python3"
  },
  "language_info": {
   "codemirror_mode": {
    "name": "ipython",
    "version": 3
   },
   "file_extension": ".py",
   "mimetype": "text/x-python",
   "name": "python",
   "nbconvert_exporter": "python",
   "pygments_lexer": "ipython3",
   "version": "3.9.13"
  }
 },
 "nbformat": 4,
 "nbformat_minor": 5
}
